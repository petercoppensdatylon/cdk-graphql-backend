{
  "nbformat": 4,
  "nbformat_minor": 0,
  "metadata": {
    "colab": {
      "name": "SDV",
      "provenance": [],
      "authorship_tag": "ABX9TyMvOUpEtVqFiKT05yR4njbD",
      "include_colab_link": true
    },
    "kernelspec": {
      "name": "python3",
      "display_name": "Python 3"
    },
    "language_info": {
      "name": "python"
    },
    "accelerator": "GPU"
  },
  "cells": [
    {
      "cell_type": "markdown",
      "metadata": {
        "id": "view-in-github",
        "colab_type": "text"
      },
      "source": [
        "<a href=\"https://colab.research.google.com/github/petercoppensdatylon/cdk-graphql-backend/blob/main/SDV.ipynb\" target=\"_parent\"><img src=\"https://colab.research.google.com/assets/colab-badge.svg\" alt=\"Open In Colab\"/></a>"
      ]
    },
    {
      "cell_type": "code",
      "execution_count": null,
      "metadata": {
        "id": "bzfX0nRik7Ic"
      },
      "outputs": [],
      "source": [
        "!pip install sdv"
      ]
    },
    {
      "cell_type": "code",
      "source": [
        "import pandas\n",
        "from sdv import SDV\n",
        "from sdv.evaluation import evaluate\n",
        "from sdv.tabular import CTGAN\n",
        "from datetime import datetime\n",
        "import logging\n",
        "import sys\n",
        "import warnings\n",
        "warnings.filterwarnings('ignore')\n",
        "\n",
        "url = 'https://drive.google.com/file/d/19DxUE-0GiTU7EHQH6hmDACctCzgM0jYM/view?usp=sharing'\n",
        "path = 'https://drive.google.com/uc?export=download&id='+url.split('/')[-2]\n",
        "data = pandas.read_csv(path)\n",
        "data_3 = data[['age','wtkg', 'cd40']]\n",
        "gan=CTGAN(verbose=False,generator_dim=(256,256),discriminator_dim=(256,256),batch_size=100, epochs=700, cuda=True)\n",
        "gan.fit(data_3)\n",
        "sampled = gan.sample(data.shape[0])\n",
        "\n"
      ],
      "metadata": {
        "id": "pMxi77awlscD"
      },
      "execution_count": 3,
      "outputs": []
    }
  ]
}